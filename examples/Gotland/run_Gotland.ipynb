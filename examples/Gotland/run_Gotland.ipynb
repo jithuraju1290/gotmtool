{
 "cells": [
  {
   "cell_type": "markdown",
   "metadata": {},
   "source": [
    "# Gotland\n",
    "\n",
    "This notebook runs [GOTM](https://gotm.net/) using the [Gotland deep](https://gotm.net/cases/gotland_deep/) test case. \n"
   ]
  },
  {
   "cell_type": "code",
   "execution_count": 1,
   "metadata": {},
   "outputs": [],
   "source": [
    "import sys\n",
    "import copy\n",
    "import numpy as np\n",
    "import matplotlib.pyplot as plt\n",
    "sys.path.append(\"../../../gotmtool\")\n",
    "from gotmtool import *"
   ]
  },
  {
   "cell_type": "markdown",
   "metadata": {},
   "source": [
    "## Create a model\n",
    "Create a model with environment file `../../.gotm_env.yaml`, which is created by `gotm_env_init.py`. "
   ]
  },
  {
   "cell_type": "code",
   "execution_count": 2,
   "metadata": {},
   "outputs": [],
   "source": [
    "m = Model(name='Gotland', environ='../../.gotm_env.yaml')"
   ]
  },
  {
   "cell_type": "markdown",
   "metadata": {},
   "source": [
    "Take a look at what are defined in the environment file."
   ]
  },
  {
   "cell_type": "code",
   "execution_count": 3,
   "metadata": {},
   "outputs": [
    {
     "name": "stdout",
     "output_type": "stream",
     "text": [
      "   gotmdir_code: /Users/qingli/develop/cvmix_in_gotm/gotm/code\n",
      "   gotmdir_data: /Users/qingli/develop/cvmix_in_gotm/gotm/data\n",
      "  gotmdir_build: /Users/qingli/develop/cvmix_in_gotm/gotm/build\n",
      "    gotmdir_exe: /Users/qingli/develop/cvmix_in_gotm/gotm/exe\n",
      "    gotmdir_run: /Users/qingli/develop/cvmix_in_gotm/gotm/run\n",
      " gotmdir_figure: /Users/qingli/develop/cvmix_in_gotm/gotm/figure\n",
      "   gotmdir_tool: /Users/qingli/develop/cvmix_in_gotm/gotmtool\n"
     ]
    }
   ],
   "source": [
    "for key in m.environ:\n",
    "    print('{:>15s}: {}'.format(key, m.environ[key]) )"
   ]
  },
  {
   "cell_type": "markdown",
   "metadata": {},
   "source": [
    "## Build the model"
   ]
  },
  {
   "cell_type": "code",
   "execution_count": 4,
   "metadata": {},
   "outputs": [
    {
     "name": "stdout",
     "output_type": "stream",
     "text": [
      "\u001b[94mWARNING: GOTM is updated. Skipping the build step. Use 'clean=True' to rebuild\u001b[0m\n",
      "CPU times: user 2.5 ms, sys: 9.14 ms, total: 11.6 ms\n",
      "Wall time: 138 ms\n"
     ]
    }
   ],
   "source": [
    "%%time\n",
    "m.build()"
   ]
  },
  {
   "cell_type": "markdown",
   "metadata": {},
   "source": [
    "## Configuration\n",
    "Initialize the GOTM configuration"
   ]
  },
  {
   "cell_type": "code",
   "execution_count": 5,
   "metadata": {},
   "outputs": [
    {
     "name": "stdout",
     "output_type": "stream",
     "text": [
      "Generating default configuration at '/Users/qingli/develop/cvmix_in_gotm/gotm/run/Gotland/gotm.yaml'...\n",
      "\u001b[92mDone!\u001b[0m\n"
     ]
    }
   ],
   "source": [
    "cfg = m.init_config()"
   ]
  },
  {
   "cell_type": "markdown",
   "metadata": {},
   "source": [
    "Update the configuration"
   ]
  },
  {
   "cell_type": "code",
   "execution_count": 6,
   "metadata": {},
   "outputs": [],
   "source": [
    "# setup\n",
    "title = 'Gotland Basin'\n",
    "nlev = 200\n",
    "cfg['title'] = title\n",
    "cfg['location']['name'] = 'Station 271'\n",
    "cfg['location']['latitude'] = 57.3\n",
    "cfg['location']['longitude'] = 20.0\n",
    "cfg['location']['depth'] = 250.0\n",
    "cfg['time']['start'] = '1990-01-01 00:00:00'\n",
    "cfg['time']['stop']  = '1991-01-01 00:00:00'\n",
    "cfg['time']['dt']    = 3600.0\n",
    "cfg['grid']['nlev']  = nlev\n",
    "cfg['grid']['ddu']   = 2.0\n",
    "\n",
    "# output\n",
    "cfg['output']['gotm_out']['title'] = title\n",
    "cfg['output']['gotm_out']['k1_stop'] = nlev+1\n",
    "cfg['output']['gotm_out']['k_stop'] = nlev\n",
    "cfg['output']['gotm_out']['time_unit'] = 'day'\n",
    "cfg['output']['gotm_out']['time_step'] = 1\n",
    "\n",
    "# forcing\n",
    "datadir = m.environ['gotmdir_data']+'/Gotland'\n",
    "cfg['temperature']['method'] = 2\n",
    "cfg['temperature']['file'] = datadir+'/t_prof_file.dat'\n",
    "cfg['salinity']['method'] = 2\n",
    "cfg['salinity']['file'] = datadir+'/s_prof_file.dat'\n",
    "cfg['salinity']['relax']['tau'] = 432000.0\n",
    "cfg['salinity']['relax']['tau_s'] = 432000.0\n",
    "cfg['salinity']['relax']['tau_b'] = 432000.0\n",
    "cfg['surface']['fluxes']['method'] = 1\n",
    "cfg['surface']['meteo']['u10']['method'] = 2\n",
    "cfg['surface']['meteo']['u10']['file'] = datadir+'/meteo_file.dat'\n",
    "cfg['surface']['meteo']['u10']['column'] = 1\n",
    "cfg['surface']['meteo']['u10']['scale_factor'] = 1.23\n",
    "cfg['surface']['meteo']['v10']['method'] = 2\n",
    "cfg['surface']['meteo']['v10']['file'] = datadir+'/meteo_file.dat'\n",
    "cfg['surface']['meteo']['v10']['column'] = 2\n",
    "cfg['surface']['meteo']['v10']['scale_factor'] = 1.23\n",
    "cfg['surface']['meteo']['airp']['method'] = 2\n",
    "cfg['surface']['meteo']['airp']['file'] = datadir+'/meteo_file.dat'\n",
    "cfg['surface']['meteo']['airp']['column'] = 3\n",
    "cfg['surface']['meteo']['airp']['scale_factor'] = 100.0\n",
    "cfg['surface']['meteo']['airt']['method'] = 2\n",
    "cfg['surface']['meteo']['airt']['file'] = datadir+'/meteo_file.dat'\n",
    "cfg['surface']['meteo']['airt']['column'] = 4\n",
    "cfg['surface']['meteo']['airt']['scale_factor'] = 1.0\n",
    "cfg['surface']['meteo']['hum']['method'] = 2\n",
    "cfg['surface']['meteo']['hum']['file'] = datadir+'/meteo_file.dat'\n",
    "cfg['surface']['meteo']['hum']['column'] = 5\n",
    "cfg['surface']['meteo']['hum']['scale_factor'] = 1.0\n",
    "cfg['surface']['meteo']['hum']['type'] = 3\n",
    "cfg['surface']['meteo']['cloud']['method'] = 2\n",
    "cfg['surface']['meteo']['cloud']['file'] = datadir+'/meteo_file.dat'\n",
    "cfg['surface']['meteo']['cloud']['column'] = 6\n",
    "cfg['surface']['meteo']['cloud']['scale_factor'] = 1.0\n",
    "cfg['surface']['meteo']['swr']['method'] = 3\n",
    "cfg['surface']['meteo']['precip']['method'] = 2\n",
    "cfg['surface']['meteo']['precip']['file'] = datadir+'/precip_file.dat'\n",
    "\n",
    "# water type\n",
    "cfg['light_extinction']['method'] = 7\n",
    "cfg['light_extinction']['A']['method'] = 0\n",
    "cfg['light_extinction']['A']['constant_value'] = 0.4\n",
    "cfg['light_extinction']['g1']['method'] = 0\n",
    "cfg['light_extinction']['g1']['constant_value'] = 3\n",
    "cfg['light_extinction']['g2']['method'] = 0\n",
    "cfg['light_extinction']['g2']['constant_value'] = 15.7\n",
    "\n",
    "# EOS \n",
    "cfg['eq_state']['mode'] = 2\n",
    "cfg['eq_state']['method'] = 2\n",
    "\n",
    "# buoyancy\n",
    "cfg['buoyancy']['NN_ini'] = 1.0e-4"
   ]
  },
  {
   "cell_type": "markdown",
   "metadata": {},
   "source": [
    "We want to run the case using two turbulence closure methods:\n",
    "- The generic length scale (GLS; [Umlauf and Burchard, 2003](https://doi.org/10.1357/002224003322005087)) model in the $k$-$\\epsilon$ formulation with the weak-equilibrium stability function by [Canuto et al., 2001](https://doi.org/10.1175/1520-0485(2001)031%3C1413:OTPIOP%3E2.0.CO;2) (C01A).\n",
    "- The K-profile parameterization (KPP; [Large et al., 1994](https://doi.org/10.1029/94RG01872), [Griffies et al., 2015](https://github.com/CVMix/CVMix-description/raw/master/cvmix.pdf)) with [CVMix](http://cvmix.github.io).\n"
   ]
  },
  {
   "cell_type": "code",
   "execution_count": 7,
   "metadata": {},
   "outputs": [],
   "source": [
    "# collect the configurations and the labels of the two runs\n",
    "cfgs = []\n",
    "labels = []"
   ]
  },
  {
   "cell_type": "code",
   "execution_count": 8,
   "metadata": {},
   "outputs": [],
   "source": [
    "cfg['turbulence']['turb_method'] = 3\n",
    "cfg['turbulence']['tke_method'] = 2\n",
    "cfg['turbulence']['len_scale_method'] = 10\n",
    "cfg['turbulence']['scnd']['method'] =  2\n",
    "cfg['turbulence']['scnd']['scnd_coeff'] =  5\n",
    "cfg['turbulence']['turb_param']['length_lim'] = 'true'\n",
    "cfg['turbulence']['turb_param']['compute_c3'] = 'true'\n",
    "cfg['turbulence']['turb_param']['galp'] = 0.53\n",
    "cfg['turbulence']['turb_param']['k_min'] = 1.23e-7\n",
    "cfg['turbulence']['generic']['gen_m'] = 1.5 \n",
    "cfg['turbulence']['generic']['gen_n'] = -1.0\n",
    "cfg['turbulence']['generic']['gen_p'] = 3.0 \n",
    "cfg['turbulence']['generic']['cpsi1'] = 1.44\n",
    "cfg['turbulence']['generic']['cpsi2'] = 1.92\n",
    "cfg['turbulence']['generic']['cpsi3minus'] = -0.63\n",
    "cfg['turbulence']['generic']['cpsi3plus'] = 1.0 \n",
    "cfg['turbulence']['generic']['sig_kpsi'] = 1.0 \n",
    "cfg['turbulence']['generic']['sig_psi'] = 1.3\n",
    "cfgs.append(copy.deepcopy(cfg))\n",
    "labels.append('GLS-C01A')"
   ]
  },
  {
   "cell_type": "code",
   "execution_count": 9,
   "metadata": {},
   "outputs": [],
   "source": [
    "cfg['turbulence']['turb_method'] = 100\n",
    "cfgs.append(copy.deepcopy(cfg))\n",
    "labels.append('KPP-CVMix')"
   ]
  },
  {
   "cell_type": "markdown",
   "metadata": {},
   "source": [
    "## Run the model"
   ]
  },
  {
   "cell_type": "code",
   "execution_count": 10,
   "metadata": {},
   "outputs": [
    {
     "name": "stdout",
     "output_type": "stream",
     "text": [
      "CPU times: user 11.8 ms, sys: 12.9 ms, total: 24.7 ms\n",
      "Wall time: 2.26 s\n"
     ]
    }
   ],
   "source": [
    "%%time\n",
    "sims = m.run_batch(configs=cfgs, labels=labels, nproc=2)"
   ]
  },
  {
   "cell_type": "markdown",
   "metadata": {},
   "source": [
    "## Results\n",
    "\n",
    "Load the data into an `xarray.Dataset`."
   ]
  },
  {
   "cell_type": "code",
   "execution_count": 11,
   "metadata": {},
   "outputs": [
    {
     "data": {
      "text/plain": [
       "(-100, 0)"
      ]
     },
     "execution_count": 11,
     "metadata": {},
     "output_type": "execute_result"
    },
    {
     "data": {
      "image/png": "[encoded data removed]",
      "text/plain": [
       "<Figure size 576x504 with 4 Axes>"
      ]
     },
     "metadata": {
      "needs_background": "light"
     },
     "output_type": "display_data"
    }
   ],
   "source": [
    "fig, axarr = plt.subplots(2, sharex='col')\n",
    "fig.set_size_inches(8, 7)\n",
    "data0 = sims[0].load_data()\n",
    "levels = np.linspace(4, 18, 71)\n",
    "data0.temp.plot(ax=axarr[0], levels=levels)\n",
    "axarr[0].set_title(labels[0])\n",
    "axarr[0].set_ylim([-100, 0])\n",
    "data1 = sims[1].load_data()\n",
    "data1.temp.plot(ax=axarr[1], levels=levels)\n",
    "axarr[1].set_title(labels[1])\n",
    "axarr[1].set_ylim([-100, 0])"
   ]
  },
  {
   "cell_type": "code",
   "execution_count": null,
   "metadata": {},
   "outputs": [],
   "source": []
  }
 ],
 "metadata": {
  "kernelspec": {
   "display_name": "Python 3",
   "language": "python",
   "name": "python3"
  },
  "language_info": {
   "codemirror_mode": {
    "name": "ipython",
    "version": 3
   },
   "file_extension": ".py",
   "mimetype": "text/x-python",
   "name": "python",
   "nbconvert_exporter": "python",
   "pygments_lexer": "ipython3",
   "version": "3.7.1"
  }
 },
 "nbformat": 4,
 "nbformat_minor": 4
}
