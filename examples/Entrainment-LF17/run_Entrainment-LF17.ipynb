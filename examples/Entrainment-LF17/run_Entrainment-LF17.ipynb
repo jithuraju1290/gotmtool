{
 "cells": [
  {
   "cell_type": "markdown",
   "metadata": {},
   "source": [
    "# Entrainment-LF17\n",
    "\n",
    "This notebook runs [GOTM](https://gotm.net/) simulating the entrainment of an initial mixed layer under various constant wind, waves, and destabilizing surface buoyancy flux forcing as described in [Li and Fox-Kemper, 2017](https://doi.org/10.1175/JPO-D-17-0085.1) (LF17). The idealized initial conditions and surface forcing are consisten with the LES in LF17 so the results are directly comparable. See Section 3.3 and 4.4.1 of [Li et al., 2019](https://doi.org/10.1029/2019MS001810).\n",
    "\n",
    "Note that this notebook will setup 54 GOTM runs for each chosen turbulence closure method, which take up to 500 MB space.  "
   ]
  },
  {
   "cell_type": "code",
   "execution_count": 1,
   "metadata": {},
   "outputs": [],
   "source": [
    "import sys\n",
    "import copy\n",
    "import numpy as np\n",
    "import pandas as pd\n",
    "import matplotlib.pyplot as plt\n",
    "sys.path.append(\"../../../gotmtool\")\n",
    "from gotmtool import *\n",
    "from gotmtool.stokesdrift import stokes_drift_dhh85"
   ]
  },
  {
   "cell_type": "markdown",
   "metadata": {},
   "source": [
    "## Create a model\n",
    "Create a model with environment file `../../.gotm_env.yaml`, which is created by `gotm_env_init.py`. "
   ]
  },
  {
   "cell_type": "code",
   "execution_count": 2,
   "metadata": {},
   "outputs": [],
   "source": [
    "m = Model(name='Entrainment-LF17', environ='../../.gotm_env.yaml')"
   ]
  },
  {
   "cell_type": "markdown",
   "metadata": {},
   "source": [
    "Take a look at what are defined in the environment file."
   ]
  },
  {
   "cell_type": "code",
   "execution_count": 3,
   "metadata": {},
   "outputs": [
    {
     "name": "stdout",
     "output_type": "stream",
     "text": [
      "   gotmdir_code: /Users/qingli/develop/cvmix_in_gotm/gotm/code\n",
      "   gotmdir_data: /Users/qingli/develop/cvmix_in_gotm/gotm/data\n",
      "  gotmdir_build: /Users/qingli/develop/cvmix_in_gotm/gotm/build\n",
      "    gotmdir_exe: /Users/qingli/develop/cvmix_in_gotm/gotm/exe\n",
      "    gotmdir_run: /Users/qingli/develop/cvmix_in_gotm/gotm/run\n",
      " gotmdir_figure: /Users/qingli/develop/cvmix_in_gotm/gotm/figure\n",
      "   gotmdir_tool: /Users/qingli/develop/cvmix_in_gotm/gotmtool\n"
     ]
    }
   ],
   "source": [
    "for key in m.environ:\n",
    "    print('{:>15s}: {}'.format(key, m.environ[key]) )"
   ]
  },
  {
   "cell_type": "markdown",
   "metadata": {},
   "source": [
    "## Build the model"
   ]
  },
  {
   "cell_type": "code",
   "execution_count": 4,
   "metadata": {},
   "outputs": [
    {
     "name": "stdout",
     "output_type": "stream",
     "text": [
      "\u001b[94mWARNING: GOTM is updated. Skipping the build step. Use 'clean=True' to rebuild\u001b[0m\n",
      "CPU times: user 2.43 ms, sys: 8.92 ms, total: 11.4 ms\n",
      "Wall time: 119 ms\n"
     ]
    }
   ],
   "source": [
    "%%time\n",
    "m.build()"
   ]
  },
  {
   "cell_type": "markdown",
   "metadata": {},
   "source": [
    "## Configuration\n",
    "Initialize the GOTM configuration"
   ]
  },
  {
   "cell_type": "code",
   "execution_count": 5,
   "metadata": {},
   "outputs": [
    {
     "name": "stdout",
     "output_type": "stream",
     "text": [
      "Generating default configuration at '/Users/qingli/develop/cvmix_in_gotm/gotm/run/Entrainment-LF17/gotm.yaml'...\n",
      "\u001b[92mDone!\u001b[0m\n"
     ]
    }
   ],
   "source": [
    "cfg = m.init_config()"
   ]
  },
  {
   "cell_type": "markdown",
   "metadata": {},
   "source": [
    "Update the configuration"
   ]
  },
  {
   "cell_type": "code",
   "execution_count": 6,
   "metadata": {},
   "outputs": [],
   "source": [
    "# setup\n",
    "title = 'Entrainment - LF17'\n",
    "nlev = 256\n",
    "depth = 163.84\n",
    "cfg['title'] = title\n",
    "cfg['location']['name'] = 'OSMOSIS'\n",
    "cfg['location']['latitude'] = 45.0\n",
    "cfg['location']['longitude'] = 0.0\n",
    "cfg['location']['depth'] = depth\n",
    "cfg['time']['start'] = '2000-01-01 00:00:00'\n",
    "cfg['time']['stop']  = '2000-01-03 00:00:00'\n",
    "cfg['time']['dt']    = 60.0\n",
    "cfg['grid']['nlev']  = nlev\n",
    "\n",
    "# output\n",
    "cfg['output']['gotm_out']['title'] = title\n",
    "cfg['output']['gotm_out']['k1_stop'] = nlev+1\n",
    "cfg['output']['gotm_out']['k_stop'] = nlev\n",
    "cfg['output']['gotm_out']['time_unit'] = 'dt'\n",
    "cfg['output']['gotm_out']['time_step'] = 15\n",
    "\n",
    "# forcing\n",
    "datadir = m.environ['gotmdir_data']+'/examples/Entrainment-LF17'\n",
    "cfg['temperature']['method'] = 2\n",
    "cfg['temperature']['file'] = datadir+'/t_prof.dat'\n",
    "cfg['salinity']['method'] = 2\n",
    "cfg['salinity']['file'] = datadir+'/s_prof.dat'\n",
    "cfg['surface']['fluxes']['heat']['method'] = 0\n",
    "cfg['surface']['fluxes']['tx']['method'] = 0\n",
    "cfg['surface']['fluxes']['ty']['method'] = 0\n",
    "cfg['surface']['meteo']['swr']['method'] = 0\n",
    "cfg['surface']['meteo']['precip']['method'] = 0\n",
    "cfg['stokes_drift']['us']['method'] = 2\n",
    "cfg['stokes_drift']['vs']['method'] = 2\n",
    "\n",
    "# EOS -- use linear\n",
    "cfg['eq_state']['method'] = 4\n",
    "cfg['eq_state']['T0'] = 12.0\n",
    "cfg['eq_state']['S0'] = 35.0\n",
    "cfg['eq_state']['dtr0'] = -0.20\n",
    "cfg['eq_state']['dsr0'] = 0.75\n",
    "cfg['physical_constants']['rho_0'] = 1000.0\n"
   ]
  },
  {
   "cell_type": "markdown",
   "metadata": {},
   "source": [
    "## Set the turbulence method\n",
    "- GLS-C01A: the generic length scale (GLS; [Umlauf and Burchard, 2003](https://doi.org/10.1357/002224003322005087)) model in the $k$-$\\epsilon$ formulation with the weak-equilibrium stability function by [Canuto et al., 2001](https://doi.org/10.1175/1520-0485(2001)031%3C1413:OTPIOP%3E2.0.CO;2) (C01A).\n",
    "- KPP-CVMix: KPP implementation in CVMix ([Large et al., 1994](https://doi.org/10.1029/94RG01872), [Griffies et al., 2015](https://github.com/CVMix/CVMix-description/raw/master/cvmix.pdf))\n",
    "- KPPLT-VR12: KPP with Langmuir mixing ([Li et al., 2016](https://doi.org/10.1016%2Fj.ocemod.2015.07.020))\n",
    "- KPPLT-LF17: KPP with Lanmguir turbulence enhanced entrainment ([Li and Fox-Kemper, 2017](https://doi.org/10.1175%2FJPO-D-17-0085.1))"
   ]
  },
  {
   "cell_type": "code",
   "execution_count": 7,
   "metadata": {},
   "outputs": [],
   "source": [
    "turbmethod = 'GLS-C01A'\n",
    "if turbmethod == 'GLS-C01A':\n",
    "    cfg['turbulence']['turb_method'] = 3\n",
    "    cfg['turbulence']['tke_method'] = 2\n",
    "    cfg['turbulence']['len_scale_method'] = 10\n",
    "    cfg['turbulence']['scnd']['method'] =  2\n",
    "    cfg['turbulence']['scnd']['scnd_coeff'] =  5\n",
    "    cfg['turbulence']['turb_param']['length_lim'] = 'false'\n",
    "    cfg['turbulence']['turb_param']['compute_c3'] = 'false'\n",
    "    cfg['turbulence']['generic']['gen_m'] = 1.5 \n",
    "    cfg['turbulence']['generic']['gen_n'] = -1.0\n",
    "    cfg['turbulence']['generic']['gen_p'] = 3.0 \n",
    "    cfg['turbulence']['generic']['cpsi1'] = 1.44\n",
    "    cfg['turbulence']['generic']['cpsi2'] = 1.92\n",
    "    cfg['turbulence']['generic']['cpsi3minus'] = -0.63\n",
    "    cfg['turbulence']['generic']['cpsi3plus'] = 1.0 \n",
    "    cfg['turbulence']['generic']['sig_kpsi'] = 1.0 \n",
    "    cfg['turbulence']['generic']['sig_psi'] = 1.3\n",
    "elif turbmethod == 'KPP-CVMix':\n",
    "    cfg['turbulence']['turb_method'] = 100\n",
    "elif turbmethod == 'KPPLT-VR12':\n",
    "    cfg['turbulence']['turb_method'] = 100\n",
    "    cfg['cvmix']['surface_layer']['kpp']['langmuir_method'] = 1\n",
    "elif turbmethod == 'KPPLT-LF17':\n",
    "    cfg['turbulence']['turb_method'] = 100\n",
    "    cfg['cvmix']['surface_layer']['kpp']['langmuir_method'] = 2\n",
    "else:\n",
    "    raise ValueError('Turbulence closure method \\'{}\\' not defined.'.format(turbmethod))"
   ]
  },
  {
   "cell_type": "markdown",
   "metadata": {},
   "source": [
    "## Create a list of configurations"
   ]
  },
  {
   "cell_type": "code",
   "execution_count": 8,
   "metadata": {},
   "outputs": [],
   "source": [
    "# heat flux (W/m^2)                                                                                                                                                               \n",
    "heatflux = {'BF05':   -5.0, 'BF10':  -10.0, 'BF25':  -25.0, 'BF50': -50.0,\n",
    "            'BF1h': -100.0, 'BF2h': -200.0, 'BF3h': -300.0, 'BF5h':-500.0}\n",
    "\n",
    "# 10-meter wind (m/s)\n",
    "u10  = {'WD05':   5.0, 'WD08':     8.0, 'WD10':  10.0}\n",
    "v10  = {'WD05':   0.0, 'WD08':     0.0, 'WD10':   0.0}\n",
    "taux = {'WD05': 0.036, 'WD08': 0.09216, 'WD10': 0.144}\n",
    "tauy = {'WD05':   0.0, 'WD08':     0.0, 'WD10':   0.0}\n",
    "\n",
    "# wave age (unitless)\n",
    "wave_age = {'WV00': 1.2, 'WV01': 1.2, 'WV02': 1.0, 'WV03': 0.8, 'WV04': 0.6}\n",
    "\n",
    "# LF17 case list\n",
    "cases = [\n",
    "    'BF05WD05WV00',                                                                                                                                                                    \n",
    "    'BF05WD05WV01',\n",
    "    'BF05WD05WV02',\n",
    "    'BF05WD05WV03',\n",
    "    'BF05WD05WV04',\n",
    "    'BF05WD08WV00',\n",
    "    'BF05WD08WV01',\n",
    "    'BF05WD08WV02',\n",
    "    'BF05WD08WV03',\n",
    "    'BF05WD08WV04',\n",
    "    'BF05WD10WV00',\n",
    "    'BF05WD10WV01',\n",
    "    'BF05WD10WV02',\n",
    "    'BF05WD10WV03',\n",
    "    'BF05WD10WV04',\n",
    "    'BF10WD05WV00',\n",
    "    'BF10WD05WV01',\n",
    "    'BF10WD05WV03',\n",
    "    'BF1hWD05WV00',\n",
    "    'BF1hWD05WV01',\n",
    "    'BF1hWD05WV03',\n",
    "    'BF1hWD08WV00',\n",
    "    'BF1hWD08WV01',\n",
    "    'BF1hWD08WV03',\n",
    "    'BF1hWD10WV00',\n",
    "    'BF1hWD10WV01',\n",
    "    'BF1hWD10WV03',\n",
    "    'BF25WD05WV00',\n",
    "    'BF25WD05WV01',\n",
    "    'BF25WD05WV03',\n",
    "    'BF25WD08WV00',\n",
    "    'BF25WD08WV01',\n",
    "    'BF25WD08WV03',\n",
    "    'BF25WD10WV00',\n",
    "    'BF25WD10WV01',\n",
    "    'BF25WD10WV03',\n",
    "    'BF2hWD05WV00',\n",
    "    'BF2hWD05WV01',\n",
    "    'BF2hWD05WV03',\n",
    "    'BF3hWD05WV00',\n",
    "    'BF3hWD05WV01',\n",
    "    'BF3hWD05WV03',\n",
    "    'BF50WD05WV00',\n",
    "    'BF50WD05WV01',\n",
    "    'BF50WD05WV03',\n",
    "    'BF50WD08WV00',\n",
    "    'BF50WD08WV01',\n",
    "    'BF50WD08WV03',\n",
    "    'BF50WD10WV00',\n",
    "    'BF50WD10WV01',\n",
    "    'BF50WD10WV03',\n",
    "    'BF5hWD05WV00',\n",
    "    'BF5hWD05WV01',\n",
    "    'BF5hWD05WV03',\n",
    "    ]"
   ]
  },
  {
   "cell_type": "markdown",
   "metadata": {},
   "source": [
    "Set the depth and time for `stokes_drift_dhh85()` and `dat_dump_pfl()`. The former computes Stokes drift using the [Donelan et al., 1985](https://doi.org/10.1098/rsta.1979.0079) spectrum, and the latter write profile data in the GOTM input format."
   ]
  },
  {
   "cell_type": "code",
   "execution_count": 9,
   "metadata": {},
   "outputs": [],
   "source": [
    "dz = depth/nlev\n",
    "z = np.linspace(-0.5*dz, -depth+0.5*dz, nlev)\n",
    "time =  pd.date_range(cfg['time']['start'], freq='D', periods=1)\n",
    "nt = len(time)"
   ]
  },
  {
   "cell_type": "code",
   "execution_count": 10,
   "metadata": {},
   "outputs": [
    {
     "name": "stdout",
     "output_type": "stream",
     "text": [
      "BF05WD05WV00\n",
      "BF05WD05WV01\n",
      "BF05WD05WV02\n",
      "BF05WD05WV03\n",
      "BF05WD05WV04\n",
      "BF05WD08WV00\n",
      "BF05WD08WV01\n",
      "BF05WD08WV02\n",
      "BF05WD08WV03\n",
      "BF05WD08WV04\n",
      "BF05WD10WV00\n",
      "BF05WD10WV01\n",
      "BF05WD10WV02\n",
      "BF05WD10WV03\n",
      "BF05WD10WV04\n",
      "BF10WD05WV00\n",
      "BF10WD05WV01\n",
      "BF10WD05WV03\n",
      "BF1hWD05WV00\n",
      "BF1hWD05WV01\n",
      "BF1hWD05WV03\n",
      "BF1hWD08WV00\n",
      "BF1hWD08WV01\n",
      "BF1hWD08WV03\n",
      "BF1hWD10WV00\n",
      "BF1hWD10WV01\n",
      "BF1hWD10WV03\n",
      "BF25WD05WV00\n",
      "BF25WD05WV01\n",
      "BF25WD05WV03\n",
      "BF25WD08WV00\n",
      "BF25WD08WV01\n",
      "BF25WD08WV03\n",
      "BF25WD10WV00\n",
      "BF25WD10WV01\n",
      "BF25WD10WV03\n",
      "BF2hWD05WV00\n",
      "BF2hWD05WV01\n",
      "BF2hWD05WV03\n",
      "BF3hWD05WV00\n",
      "BF3hWD05WV01\n",
      "BF3hWD05WV03\n",
      "BF50WD05WV00\n",
      "BF50WD05WV01\n",
      "BF50WD05WV03\n",
      "BF50WD08WV00\n",
      "BF50WD08WV01\n",
      "BF50WD08WV03\n",
      "BF50WD10WV00\n",
      "BF50WD10WV01\n",
      "BF50WD10WV03\n",
      "BF5hWD05WV00\n",
      "BF5hWD05WV01\n",
      "BF5hWD05WV03\n"
     ]
    }
   ],
   "source": [
    "cfgs = []\n",
    "labels = []\n",
    "for i, casename in enumerate(cases):\n",
    "    print(casename)\n",
    "    heatflux_label = casename[:4]\n",
    "    wind_label = casename[4:8]\n",
    "    wave_label = casename[8:]\n",
    "    wind_speed = np.sqrt(u10[wind_label]**2+v10[wind_label]**2)\n",
    "    xcomp = u10[wind_label]/wind_speed\n",
    "    ycomp = v10[wind_label]/wind_speed\n",
    "    run_label = casename+'/'+turbmethod\n",
    "    labels.append(run_label)\n",
    "    run_dir = m.environ['gotmdir_run']+'/'+m.name+'/'+run_label\n",
    "    os.makedirs(run_dir, exist_ok=True)\n",
    "    stokes_drift = stokes_drift_dhh85(z, wind_speed, wave_age[wave_label])\n",
    "    us_arr = np.tile(stokes_drift, (nt,1)) * xcomp\n",
    "    vs_arr = np.tile(stokes_drift, (nt,1)) * ycomp\n",
    "    dat_dump_pfl(time, z, [us_arr, vs_arr], run_dir+'/us_prof.dat')\n",
    "    cfg['surface']['fluxes']['heat']['constant_value'] = heatflux[heatflux_label]\n",
    "    cfg['surface']['fluxes']['tx']['constant_value'] = taux[wind_label]\n",
    "    cfg['surface']['fluxes']['ty']['constant_value'] = tauy[wind_label]\n",
    "    cfg['stokes_drift']['us']['file'] = 'us_prof.dat'\n",
    "    cfg['stokes_drift']['us']['column'] = 1\n",
    "    cfg['stokes_drift']['vs']['file'] = 'us_prof.dat'\n",
    "    cfg['stokes_drift']['vs']['column'] = 2\n",
    "    cfgs.append(copy.deepcopy(cfg))"
   ]
  },
  {
   "cell_type": "markdown",
   "metadata": {},
   "source": [
    "## Run the model"
   ]
  },
  {
   "cell_type": "code",
   "execution_count": 11,
   "metadata": {},
   "outputs": [
    {
     "name": "stdout",
     "output_type": "stream",
     "text": [
      "CPU times: user 109 ms, sys: 23.1 ms, total: 132 ms\n",
      "Wall time: 13.3 s\n"
     ]
    }
   ],
   "source": [
    "%%time\n",
    "sims = m.run_batch(configs=cfgs, labels=labels, nproc=2)"
   ]
  },
  {
   "cell_type": "code",
   "execution_count": null,
   "metadata": {},
   "outputs": [],
   "source": []
  }
 ],
 "metadata": {
  "kernelspec": {
   "display_name": "Python 3",
   "language": "python",
   "name": "python3"
  },
  "language_info": {
   "codemirror_mode": {
    "name": "ipython",
    "version": 3
   },
   "file_extension": ".py",
   "mimetype": "text/x-python",
   "name": "python",
   "nbconvert_exporter": "python",
   "pygments_lexer": "ipython3",
   "version": "3.7.1"
  }
 },
 "nbformat": 4,
 "nbformat_minor": 4
}
