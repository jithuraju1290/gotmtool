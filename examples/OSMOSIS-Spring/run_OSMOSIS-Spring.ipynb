{
 "cells": [
  {
   "cell_type": "markdown",
   "metadata": {},
   "source": [
    "# OSMOSIS Spring\n",
    "\n",
    "This notebook runs [GOTM](https://gotm.net/) with initial conditions and surface forcing during the spring months (Dec. 25, 2012 - Sep. 10, 2013) of the Ocean Surface Mixing, Ocean Submesoscale Interaction Study in the northeast Atlantic (OSMOSIS, 48.7$^\\circ$N, 16.2$^\\circ$W; [Damerell et al., 2016](https://doi.org/10.1002/2015JC011423)). See Fig. 3 of [Li et al., 2019](https://doi.org/10.1029/2019MS001810)."
   ]
  },
  {
   "cell_type": "code",
   "execution_count": 1,
   "metadata": {},
   "outputs": [],
   "source": [
    "import sys\n",
    "import copy\n",
    "import numpy as np\n",
    "import matplotlib.pyplot as plt\n",
    "sys.path.append(\"../../../gotmtool\")\n",
    "from gotmtool import *"
   ]
  },
  {
   "cell_type": "markdown",
   "metadata": {},
   "source": [
    "## Create a model\n",
    "Create a model with environment file `../../.gotm_env.yaml`, which is created by `gotm_env_init.py`. "
   ]
  },
  {
   "cell_type": "code",
   "execution_count": 2,
   "metadata": {},
   "outputs": [],
   "source": [
    "m = Model(name='OSMOSIS-Spring', environ='../../.gotm_env.yaml')"
   ]
  },
  {
   "cell_type": "markdown",
   "metadata": {},
   "source": [
    "Take a look at what are defined in the environment file."
   ]
  },
  {
   "cell_type": "code",
   "execution_count": 3,
   "metadata": {},
   "outputs": [
    {
     "name": "stdout",
     "output_type": "stream",
     "text": [
      "   gotmdir_code: /Users/qingli/develop/cvmix_in_gotm/gotm/code\n",
      "   gotmdir_data: /Users/qingli/develop/cvmix_in_gotm/gotm/data\n",
      "  gotmdir_build: /Users/qingli/develop/cvmix_in_gotm/gotm/build\n",
      "    gotmdir_exe: /Users/qingli/develop/cvmix_in_gotm/gotm/exe\n",
      "    gotmdir_run: /Users/qingli/develop/cvmix_in_gotm/gotm/run\n",
      " gotmdir_figure: /Users/qingli/develop/cvmix_in_gotm/gotm/figure\n",
      "   gotmdir_tool: /Users/qingli/develop/cvmix_in_gotm/gotmtool\n"
     ]
    }
   ],
   "source": [
    "for key in m.environ:\n",
    "    print('{:>15s}: {}'.format(key, m.environ[key]) )"
   ]
  },
  {
   "cell_type": "markdown",
   "metadata": {},
   "source": [
    "## Build the model"
   ]
  },
  {
   "cell_type": "code",
   "execution_count": 4,
   "metadata": {},
   "outputs": [
    {
     "name": "stdout",
     "output_type": "stream",
     "text": [
      "\u001b[94mWARNING: GOTM is updated. Skipping the build step. Use 'clean=True' to rebuild\u001b[0m\n",
      "CPU times: user 3.11 ms, sys: 8.69 ms, total: 11.8 ms\n",
      "Wall time: 81.5 ms\n"
     ]
    }
   ],
   "source": [
    "%%time\n",
    "m.build()"
   ]
  },
  {
   "cell_type": "markdown",
   "metadata": {},
   "source": [
    "## Configuration\n",
    "Initialize the GOTM configuration"
   ]
  },
  {
   "cell_type": "code",
   "execution_count": 5,
   "metadata": {},
   "outputs": [
    {
     "name": "stdout",
     "output_type": "stream",
     "text": [
      "Generating default configuration at '/Users/qingli/develop/cvmix_in_gotm/gotm/run/OSMOSIS-Spring/gotm.yaml'...\n",
      "\u001b[92mDone!\u001b[0m\n"
     ]
    }
   ],
   "source": [
    "cfg = m.init_config()"
   ]
  },
  {
   "cell_type": "markdown",
   "metadata": {},
   "source": [
    "Update the configuration"
   ]
  },
  {
   "cell_type": "code",
   "execution_count": 6,
   "metadata": {},
   "outputs": [],
   "source": [
    "# setup\n",
    "title = 'OSMOSIS - Spring'\n",
    "nlev = 480\n",
    "cfg['title'] = title\n",
    "cfg['location']['name'] = 'OSMOSIS'\n",
    "cfg['location']['latitude'] = 48.7\n",
    "cfg['location']['longitude'] = -16.2\n",
    "cfg['location']['depth'] = 480.0\n",
    "cfg['time']['start'] = '2012-12-25 00:00:00'\n",
    "cfg['time']['stop']  = '2013-09-10 03:00:00'\n",
    "cfg['time']['dt']    = 600.0\n",
    "cfg['grid']['nlev']  = nlev\n",
    "\n",
    "# output\n",
    "cfg['output']['gotm_out']['title'] = title\n",
    "cfg['output']['gotm_out']['k1_stop'] = nlev+1\n",
    "cfg['output']['gotm_out']['k_stop'] = nlev\n",
    "cfg['output']['gotm_out']['time_unit'] = 'hour'\n",
    "cfg['output']['gotm_out']['time_step'] = 3\n",
    "\n",
    "# forcing\n",
    "datadir = m.environ['gotmdir_data']+'/examples/OSMOSIS-Spring'\n",
    "cfg['temperature']['method'] = 2\n",
    "cfg['temperature']['file'] = datadir+'/t_prof.dat'\n",
    "cfg['salinity']['method'] = 2\n",
    "cfg['salinity']['file'] = datadir+'/s_prof.dat'\n",
    "cfg['surface']['fluxes']['heat']['method'] = 2\n",
    "cfg['surface']['fluxes']['heat']['file'] = datadir+'/heat_flux.dat'\n",
    "cfg['surface']['fluxes']['tx']['method'] = 2\n",
    "cfg['surface']['fluxes']['tx']['file'] = datadir+'/momentum_flux.dat'\n",
    "cfg['surface']['fluxes']['tx']['column'] = 1\n",
    "cfg['surface']['fluxes']['ty']['method'] = 2\n",
    "cfg['surface']['fluxes']['ty']['file'] = datadir+'/momentum_flux.dat'\n",
    "cfg['surface']['fluxes']['ty']['column'] = 2\n",
    "cfg['surface']['meteo']['swr']['method'] = 2\n",
    "cfg['surface']['meteo']['swr']['file'] = datadir+'/swr.dat'\n",
    "cfg['surface']['meteo']['precip']['method'] = 2\n",
    "cfg['surface']['meteo']['precip']['file'] = datadir+'/pme.dat'\n",
    "cfg['stokes_drift']['us']['method'] = 3\n",
    "cfg['stokes_drift']['vs']['method'] = 3\n",
    "cfg['stokes_drift']['exponential']['us0']['method'] = 2\n",
    "cfg['stokes_drift']['exponential']['us0']['file'] = datadir+'/stokes_drift.dat'\n",
    "cfg['stokes_drift']['exponential']['us0']['column'] = 1\n",
    "cfg['stokes_drift']['exponential']['vs0']['method'] = 2\n",
    "cfg['stokes_drift']['exponential']['vs0']['file'] = datadir+'/stokes_drift.dat'\n",
    "cfg['stokes_drift']['exponential']['vs0']['column'] = 2\n",
    "cfg['stokes_drift']['exponential']['ds']['method'] = 2\n",
    "cfg['stokes_drift']['exponential']['ds']['file'] = datadir+'/stokes_drift.dat'\n",
    "cfg['stokes_drift']['exponential']['ds']['column'] = 3\n",
    "\n",
    "# water type\n",
    "cfg['light_extinction']['method'] = 7\n",
    "cfg['light_extinction']['A']['method'] = 0\n",
    "cfg['light_extinction']['A']['constant_value'] = 0.57\n",
    "cfg['light_extinction']['g1']['method'] = 0\n",
    "cfg['light_extinction']['g1']['constant_value'] = 0.55\n",
    "cfg['light_extinction']['g2']['method'] = 0\n",
    "cfg['light_extinction']['g2']['constant_value'] = 17.0\n",
    "\n",
    "# EOS -- use linear\n",
    "cfg['eq_state']['method'] = 4\n",
    "\n",
    "# damping on velocity: relaxation to zero with a 5-day decay time\n",
    "cfg['velocities']['relax']['tau'] = 432000.0"
   ]
  },
  {
   "cell_type": "markdown",
   "metadata": {},
   "source": [
    "Set the turbulence method to the generic length scale (GLS; [Umlauf and Burchard, 2003](https://doi.org/10.1357/002224003322005087)) model in the $k$-$\\epsilon$ formulation with the weak-equilibrium stability function by [Canuto et al., 2001](https://doi.org/10.1175/1520-0485(2001)031%3C1413:OTPIOP%3E2.0.CO;2) (C01A)."
   ]
  },
  {
   "cell_type": "code",
   "execution_count": 7,
   "metadata": {},
   "outputs": [],
   "source": [
    "cfg['turbulence']['turb_method'] = 3\n",
    "cfg['turbulence']['tke_method'] = 2\n",
    "cfg['turbulence']['len_scale_method'] = 10\n",
    "cfg['turbulence']['scnd']['method'] =  2\n",
    "cfg['turbulence']['scnd']['scnd_coeff'] =  5\n",
    "cfg['turbulence']['turb_param']['length_lim'] = 'false'\n",
    "cfg['turbulence']['turb_param']['compute_c3'] = 'false'\n",
    "cfg['turbulence']['generic']['gen_m'] = 1.5 \n",
    "cfg['turbulence']['generic']['gen_n'] = -1.0\n",
    "cfg['turbulence']['generic']['gen_p'] = 3.0 \n",
    "cfg['turbulence']['generic']['cpsi1'] = 1.44\n",
    "cfg['turbulence']['generic']['cpsi2'] = 1.92\n",
    "cfg['turbulence']['generic']['cpsi3minus'] = -0.63\n",
    "cfg['turbulence']['generic']['cpsi3plus'] = 1.0 \n",
    "cfg['turbulence']['generic']['sig_kpsi'] = 1.0 \n",
    "cfg['turbulence']['generic']['sig_psi'] = 1.3"
   ]
  },
  {
   "cell_type": "markdown",
   "metadata": {},
   "source": [
    "## Run the model"
   ]
  },
  {
   "cell_type": "code",
   "execution_count": 8,
   "metadata": {},
   "outputs": [
    {
     "name": "stdout",
     "output_type": "stream",
     "text": [
      "CPU times: user 59.6 ms, sys: 5.14 ms, total: 64.7 ms\n",
      "Wall time: 6.27 s\n"
     ]
    }
   ],
   "source": [
    "%%time\n",
    "sim = m.run(config=cfg, label='SMC-C01A')"
   ]
  },
  {
   "cell_type": "markdown",
   "metadata": {},
   "source": [
    "## Results\n",
    "\n",
    "Load the data into an `xarray.Dataset`."
   ]
  },
  {
   "cell_type": "code",
   "execution_count": 9,
   "metadata": {},
   "outputs": [],
   "source": [
    "data = sim.load_data()"
   ]
  },
  {
   "cell_type": "markdown",
   "metadata": {},
   "source": [
    "Temperature"
   ]
  },
  {
   "cell_type": "code",
   "execution_count": 10,
   "metadata": {},
   "outputs": [
    {
     "data": {
      "text/plain": [
       "<matplotlib.collections.QuadMesh at 0x7fa62bd65b70>"
      ]
     },
     "execution_count": 10,
     "metadata": {},
     "output_type": "execute_result"
    },
    {
     "data": {
      "image/png": "[encoded data removed]",
      "text/plain": [
       "<Figure size 576x288 with 2 Axes>"
      ]
     },
     "metadata": {
      "needs_background": "light"
     },
     "output_type": "display_data"
    }
   ],
   "source": [
    "fig = plt.figure(figsize=[8,4])\n",
    "levels = np.linspace(11.5, 18.5, 71)\n",
    "data.temp.plot(levels=levels)"
   ]
  },
  {
   "cell_type": "markdown",
   "metadata": {},
   "source": [
    "## Try different turbulence models\n",
    "\n",
    "Now run the same model with [CVMix](http://cvmix.github.io). Try three options in CVMix:\n",
    "\n",
    "- KPP-CVMix ([Large et al., 1994](https://doi.org/10.1029/94RG01872), [Griffies et al., 2015](https://github.com/CVMix/CVMix-description/raw/master/cvmix.pdf))\n",
    "- KPPLT-VR12 ([Li et al., 2016](https://doi.org/10.1016%2Fj.ocemod.2015.07.020))\n",
    "- KPPLT-LF17 ([Li and Fox-Kemper, 2017](https://doi.org/10.1175%2FJPO-D-17-0085.1))"
   ]
  },
  {
   "cell_type": "code",
   "execution_count": 11,
   "metadata": {},
   "outputs": [],
   "source": [
    "cfgs = []\n",
    "labels = []"
   ]
  },
  {
   "cell_type": "code",
   "execution_count": 12,
   "metadata": {},
   "outputs": [],
   "source": [
    "cfg['turbulence']['turb_method'] = 100\n",
    "cfgs.append(copy.deepcopy(cfg))\n",
    "labels.append('KPP-CVMix')"
   ]
  },
  {
   "cell_type": "code",
   "execution_count": 13,
   "metadata": {},
   "outputs": [],
   "source": [
    "cfg['cvmix']['surface_layer']['kpp']['langmuir_method'] = 1\n",
    "cfgs.append(copy.deepcopy(cfg))\n",
    "labels.append('KPPLT-VR12')"
   ]
  },
  {
   "cell_type": "code",
   "execution_count": 14,
   "metadata": {},
   "outputs": [],
   "source": [
    "cfg['cvmix']['surface_layer']['kpp']['langmuir_method'] = 2\n",
    "cfgs.append(copy.deepcopy(cfg))\n",
    "labels.append('KPPLT-LF17')"
   ]
  },
  {
   "cell_type": "markdown",
   "metadata": {},
   "source": [
    "Run the three cases in parallel with 3 processes "
   ]
  },
  {
   "cell_type": "code",
   "execution_count": 15,
   "metadata": {},
   "outputs": [
    {
     "name": "stdout",
     "output_type": "stream",
     "text": [
      "CPU times: user 24.1 ms, sys: 18.9 ms, total: 42.9 ms\n",
      "Wall time: 20.8 s\n"
     ]
    }
   ],
   "source": [
    "%%time\n",
    "sims = m.run_batch(configs=cfgs, labels=labels, nproc=3)"
   ]
  },
  {
   "cell_type": "markdown",
   "metadata": {},
   "source": [
    "Plot the temperature in `KPP-CVMix` and the differences from it in `KPPLT-VR12` and `KPPLT-LF17`"
   ]
  },
  {
   "cell_type": "code",
   "execution_count": 16,
   "metadata": {},
   "outputs": [
    {
     "data": {
      "image/png": "[encoded data removed]",
      "text/plain": [
       "<Figure size 576x648 with 6 Axes>"
      ]
     },
     "metadata": {
      "needs_background": "light"
     },
     "output_type": "display_data"
    }
   ],
   "source": [
    "fig, axarr = plt.subplots(3, sharex='col')\n",
    "fig.set_size_inches(8, 9)\n",
    "data0 = sims[0].load_data()\n",
    "levels = np.linspace(11.5, 18.5, 71)\n",
    "data0.temp.plot(ax=axarr[0], levels=levels)\n",
    "axarr[0].set_title(labels[0])\n",
    "levels_diff = np.linspace(-2, 2, 41)\n",
    "for i in np.arange(2):\n",
    "    j = i+1\n",
    "    diff = sims[j].load_data().temp - data0.temp\n",
    "    diff.attrs['long_name'] = '$\\Delta$ '+ data0.temp.attrs['long_name']\n",
    "    diff.attrs['units'] = data0.temp.attrs['units']\n",
    "    diff.plot(ax=axarr[j], levels=levels_diff)\n",
    "    axarr[j].set_title(labels[j]+' $-$ '+labels[0])"
   ]
  },
  {
   "cell_type": "code",
   "execution_count": null,
   "metadata": {},
   "outputs": [],
   "source": []
  }
 ],
 "metadata": {
  "kernelspec": {
   "display_name": "Python 3",
   "language": "python",
   "name": "python3"
  },
  "language_info": {
   "codemirror_mode": {
    "name": "ipython",
    "version": 3
   },
   "file_extension": ".py",
   "mimetype": "text/x-python",
   "name": "python",
   "nbconvert_exporter": "python",
   "pygments_lexer": "ipython3",
   "version": "3.7.1"
  }
 },
 "nbformat": 4,
 "nbformat_minor": 4
}
