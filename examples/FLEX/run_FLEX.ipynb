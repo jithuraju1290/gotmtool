{
 "cells": [
  {
   "cell_type": "markdown",
   "metadata": {},
   "source": [
    "# FLEX\n",
    "\n",
    "This notebook runs [GOTM](https://gotm.net/) using the [FLEX](https://gotm.net/cases/flex/) test case. \n"
   ]
  },
  {
   "cell_type": "code",
   "execution_count": 1,
   "metadata": {},
   "outputs": [],
   "source": [
    "import sys\n",
    "import copy\n",
    "import numpy as np\n",
    "import matplotlib.pyplot as plt\n",
    "sys.path.append(\"../../../gotmtool\")\n",
    "from gotmtool import *"
   ]
  },
  {
   "cell_type": "markdown",
   "metadata": {},
   "source": [
    "## Create a model\n",
    "Create a model with environment file `../../.gotm_env.yaml`, which is created by `gotm_env_init.py`. "
   ]
  },
  {
   "cell_type": "code",
   "execution_count": 2,
   "metadata": {},
   "outputs": [],
   "source": [
    "m = Model(name='FLEX', environ='../../.gotm_env.yaml')"
   ]
  },
  {
   "cell_type": "markdown",
   "metadata": {},
   "source": [
    "Take a look at what are defined in the environment file."
   ]
  },
  {
   "cell_type": "code",
   "execution_count": 3,
   "metadata": {},
   "outputs": [
    {
     "name": "stdout",
     "output_type": "stream",
     "text": [
      "   gotmdir_code: /Users/qingli/develop/cvmix_in_gotm/gotm/code\n",
      "   gotmdir_data: /Users/qingli/develop/cvmix_in_gotm/gotm/data\n",
      "  gotmdir_build: /Users/qingli/develop/cvmix_in_gotm/gotm/build\n",
      "    gotmdir_exe: /Users/qingli/develop/cvmix_in_gotm/gotm/exe\n",
      "    gotmdir_run: /Users/qingli/develop/cvmix_in_gotm/gotm/run\n",
      " gotmdir_figure: /Users/qingli/develop/cvmix_in_gotm/gotm/figure\n",
      "   gotmdir_tool: /Users/qingli/develop/cvmix_in_gotm/gotmtool\n"
     ]
    }
   ],
   "source": [
    "for key in m.environ:\n",
    "    print('{:>15s}: {}'.format(key, m.environ[key]) )"
   ]
  },
  {
   "cell_type": "markdown",
   "metadata": {},
   "source": [
    "## Build the model"
   ]
  },
  {
   "cell_type": "code",
   "execution_count": 4,
   "metadata": {},
   "outputs": [
    {
     "name": "stdout",
     "output_type": "stream",
     "text": [
      "\u001b[94mWARNING: GOTM is updated. Skipping the build step. Use 'clean=True' to rebuild\u001b[0m\n",
      "CPU times: user 3.61 ms, sys: 9.04 ms, total: 12.7 ms\n",
      "Wall time: 79.9 ms\n"
     ]
    }
   ],
   "source": [
    "%%time\n",
    "m.build()"
   ]
  },
  {
   "cell_type": "markdown",
   "metadata": {},
   "source": [
    "## Configuration\n",
    "Initialize the GOTM configuration"
   ]
  },
  {
   "cell_type": "code",
   "execution_count": 5,
   "metadata": {},
   "outputs": [
    {
     "name": "stdout",
     "output_type": "stream",
     "text": [
      "Generating default configuration at '/Users/qingli/develop/cvmix_in_gotm/gotm/run/FLEX/gotm.yaml'...\n",
      "\u001b[92mDone!\u001b[0m\n"
     ]
    }
   ],
   "source": [
    "cfg = m.init_config()"
   ]
  },
  {
   "cell_type": "markdown",
   "metadata": {},
   "source": [
    "Update the configuration"
   ]
  },
  {
   "cell_type": "code",
   "execution_count": 6,
   "metadata": {},
   "outputs": [],
   "source": [
    "# setup\n",
    "title = 'FLEX'\n",
    "nlev = 145\n",
    "cfg['title'] = title\n",
    "cfg['location']['name'] = 'Flex Experiment 1976'\n",
    "cfg['location']['latitude'] = 58.92\n",
    "cfg['location']['longitude'] = 0.32\n",
    "cfg['location']['depth'] = 145.0\n",
    "cfg['time']['start'] = '1976-04-06 06:00:00'\n",
    "cfg['time']['stop']  = '1976-06-07 00:00:00'\n",
    "cfg['time']['dt']    = 360.0\n",
    "cfg['grid']['nlev']  = nlev\n",
    "\n",
    "# output\n",
    "cfg['output']['gotm_out']['title'] = title\n",
    "cfg['output']['gotm_out']['k1_stop'] = nlev+1\n",
    "cfg['output']['gotm_out']['k_stop'] = nlev\n",
    "cfg['output']['gotm_out']['time_unit'] = 'dt'\n",
    "cfg['output']['gotm_out']['time_step'] = 30\n",
    "\n",
    "# forcing\n",
    "datadir = m.environ['gotmdir_data']+'/FLEX'\n",
    "cfg['temperature']['method'] = 2\n",
    "cfg['temperature']['file'] = datadir+'/t_prof_file.dat'\n",
    "cfg['salinity']['method'] = 2\n",
    "cfg['salinity']['file'] = datadir+'/s_prof_file.dat'\n",
    "cfg['salinity']['relax']['tau'] = 172800.0\n",
    "cfg['salinity']['relax']['tau_s'] = 172800.0\n",
    "cfg['salinity']['relax']['tau_b'] = 72800.0\n",
    "cfg['surface']['fluxes']['method'] = 0\n",
    "cfg['surface']['fluxes']['heat']['method'] = 2\n",
    "cfg['surface']['fluxes']['heat']['file'] = datadir+'/heatflux_file.dat'\n",
    "cfg['surface']['fluxes']['tx']['method'] = 2\n",
    "cfg['surface']['fluxes']['tx']['file'] = datadir+'/momentumflux_file.dat'\n",
    "cfg['surface']['fluxes']['tx']['column'] = 1\n",
    "cfg['surface']['fluxes']['ty']['method'] = 2\n",
    "cfg['surface']['fluxes']['ty']['file'] = datadir+'/momentumflux_file.dat'\n",
    "cfg['surface']['fluxes']['ty']['column'] = 2\n",
    "cfg['surface']['meteo']['swr']['method'] = 2\n",
    "cfg['surface']['meteo']['swr']['file'] = datadir+'/swr_file.dat'\n",
    "cfg['surface']['sst']['method'] = 2\n",
    "cfg['surface']['sst']['file'] = datadir+'/sst_file.dat'\n",
    "\n",
    "# water type\n",
    "cfg['light_extinction']['method'] = 7\n",
    "cfg['light_extinction']['A']['method'] = 2\n",
    "cfg['light_extinction']['A']['file'] = datadir+'/extinct_file.dat'\n",
    "cfg['light_extinction']['A']['column'] = 1\n",
    "cfg['light_extinction']['g1']['method'] = 2\n",
    "cfg['light_extinction']['g1']['file'] = datadir+'/extinct_file.dat'\n",
    "cfg['light_extinction']['g1']['column'] = 2\n",
    "cfg['light_extinction']['g2']['method'] = 2\n",
    "cfg['light_extinction']['g2']['file'] = datadir+'/extinct_file.dat'\n",
    "cfg['light_extinction']['g2']['column'] = 3\n",
    "\n",
    "# EOS \n",
    "cfg['eq_state']['mode'] = 1\n",
    "cfg['eq_state']['method'] = 2\n",
    "\n",
    "# buoyancy\n",
    "cfg['buoyancy']['NN_ini'] = 1.0e-4"
   ]
  },
  {
   "cell_type": "markdown",
   "metadata": {},
   "source": [
    "We want to run the case using two turbulence closure methods:\n",
    "- The generic length scale (GLS; [Umlauf and Burchard, 2003](https://doi.org/10.1357/002224003322005087)) model in the $k$-$\\epsilon$ formulation with the weak-equilibrium stability function by [Canuto et al., 2001](https://doi.org/10.1175/1520-0485(2001)031%3C1413:OTPIOP%3E2.0.CO;2) (C01A).\n",
    "- The K-profile parameterization (KPP; [Large et al., 1994](https://doi.org/10.1029/94RG01872), [Griffies et al., 2015](https://github.com/CVMix/CVMix-description/raw/master/cvmix.pdf)) with [CVMix](http://cvmix.github.io).\n"
   ]
  },
  {
   "cell_type": "code",
   "execution_count": 7,
   "metadata": {},
   "outputs": [],
   "source": [
    "# collect the configurations and the labels of the two runs\n",
    "cfgs = []\n",
    "labels = []"
   ]
  },
  {
   "cell_type": "code",
   "execution_count": 8,
   "metadata": {},
   "outputs": [],
   "source": [
    "cfg['turbulence']['turb_method'] = 3\n",
    "cfg['turbulence']['tke_method'] = 2\n",
    "cfg['turbulence']['len_scale_method'] = 10\n",
    "cfg['turbulence']['scnd']['method'] =  2\n",
    "cfg['turbulence']['scnd']['scnd_coeff'] =  5\n",
    "cfg['turbulence']['turb_param']['length_lim'] = 'true'\n",
    "cfg['turbulence']['turb_param']['compute_c3'] = 'true'\n",
    "cfg['turbulence']['turb_param']['galp'] = 0.53\n",
    "cfg['turbulence']['generic']['gen_m'] = 1.5 \n",
    "cfg['turbulence']['generic']['gen_n'] = -1.0\n",
    "cfg['turbulence']['generic']['gen_p'] = 3.0 \n",
    "cfg['turbulence']['generic']['cpsi1'] = 1.44\n",
    "cfg['turbulence']['generic']['cpsi2'] = 1.92\n",
    "cfg['turbulence']['generic']['cpsi3minus'] = -0.63\n",
    "cfg['turbulence']['generic']['cpsi3plus'] = 1.0 \n",
    "cfg['turbulence']['generic']['sig_kpsi'] = 1.0 \n",
    "cfg['turbulence']['generic']['sig_psi'] = 1.3\n",
    "cfgs.append(copy.deepcopy(cfg))\n",
    "labels.append('GLS-C01A')"
   ]
  },
  {
   "cell_type": "code",
   "execution_count": 9,
   "metadata": {},
   "outputs": [],
   "source": [
    "cfg['turbulence']['turb_method'] = 100\n",
    "cfgs.append(copy.deepcopy(cfg))\n",
    "labels.append('KPP-CVMix')"
   ]
  },
  {
   "cell_type": "markdown",
   "metadata": {},
   "source": [
    "## Run the model"
   ]
  },
  {
   "cell_type": "code",
   "execution_count": 10,
   "metadata": {},
   "outputs": [
    {
     "name": "stdout",
     "output_type": "stream",
     "text": [
      "CPU times: user 11.4 ms, sys: 13.7 ms, total: 25.1 ms\n",
      "Wall time: 2.58 s\n"
     ]
    }
   ],
   "source": [
    "%%time\n",
    "sims = m.run_batch(configs=cfgs, labels=labels, nproc=2)"
   ]
  },
  {
   "cell_type": "markdown",
   "metadata": {},
   "source": [
    "## Results\n",
    "\n",
    "Load the data into an `xarray.Dataset`."
   ]
  },
  {
   "cell_type": "code",
   "execution_count": 11,
   "metadata": {},
   "outputs": [
    {
     "data": {
      "text/plain": [
       "(-100, 0)"
      ]
     },
     "execution_count": 11,
     "metadata": {},
     "output_type": "execute_result"
    },
    {
     "data": {
      "image/png": "[encoded data removed]",
      "text/plain": [
       "<Figure size 576x576 with 4 Axes>"
      ]
     },
     "metadata": {
      "needs_background": "light"
     },
     "output_type": "display_data"
    }
   ],
   "source": [
    "fig, axarr = plt.subplots(2, sharex='col')\n",
    "fig.set_size_inches(8, 8)\n",
    "data0 = sims[0].load_data()\n",
    "levels = np.linspace(6, 9, 61)\n",
    "data0.temp.plot(ax=axarr[0], levels=levels)\n",
    "axarr[0].set_title(labels[0])\n",
    "axarr[0].set_ylim([-100, 0])\n",
    "data1 = sims[1].load_data()\n",
    "data1.temp.plot(ax=axarr[1], levels=levels)\n",
    "axarr[1].set_title(labels[1])\n",
    "axarr[1].set_ylim([-100, 0])"
   ]
  },
  {
   "cell_type": "code",
   "execution_count": null,
   "metadata": {},
   "outputs": [],
   "source": []
  }
 ],
 "metadata": {
  "kernelspec": {
   "display_name": "Python 3",
   "language": "python",
   "name": "python3"
  },
  "language_info": {
   "codemirror_mode": {
    "name": "ipython",
    "version": 3
   },
   "file_extension": ".py",
   "mimetype": "text/x-python",
   "name": "python",
   "nbconvert_exporter": "python",
   "pygments_lexer": "ipython3",
   "version": "3.7.1"
  }
 },
 "nbformat": 4,
 "nbformat_minor": 4
}
